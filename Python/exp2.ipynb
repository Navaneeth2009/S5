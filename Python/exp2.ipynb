{
 "cells": [
  {
   "cell_type": "code",
   "execution_count": 1,
   "id": "32006322-73b7-46fa-9d9d-22e427113d7e",
   "metadata": {},
   "outputs": [
    {
     "name": "stdout",
     "output_type": "stream",
     "text": [
      "1\n",
      "2\n",
      "3\n",
      "4\n",
      "5\n",
      "6\n",
      "7\n",
      "8\n",
      "9\n",
      "10\n"
     ]
    }
   ],
   "source": [
    "i=1\n",
    "while i<11:\n",
    "    print(i)\n",
    "    i+=1"
   ]
  },
  {
   "cell_type": "code",
   "execution_count": 2,
   "id": "a2d602d6-a12f-49e6-a4b6-c83ac774fd80",
   "metadata": {},
   "outputs": [
    {
     "name": "stdin",
     "output_type": "stream",
     "text": [
      "Enter any number :  2\n"
     ]
    },
    {
     "name": "stdout",
     "output_type": "stream",
     "text": [
      "2\n",
      "4\n",
      "6\n",
      "8\n",
      "10\n",
      "12\n",
      "14\n",
      "16\n",
      "18\n",
      "20\n"
     ]
    }
   ],
   "source": [
    "n=int(input(\"Enter any number : \"))\n",
    "for i in range(1,11):\n",
    "    print(n*i)"
   ]
  },
  {
   "cell_type": "code",
   "execution_count": 19,
   "id": "71c400c8-77ed-4890-94a8-04de53cab65e",
   "metadata": {},
   "outputs": [
    {
     "name": "stdout",
     "output_type": "stream",
     "text": [
      "\n",
      "* \n",
      "* * \n",
      "* * * \n",
      "* * * * \n",
      "* * * * * "
     ]
    }
   ],
   "source": [
    "for i in range(1,6):\n",
    "    print()\n",
    "    for j in range(i):\n",
    "            print(\"*\",end=\" \")\n",
    "            "
   ]
  },
  {
   "cell_type": "code",
   "execution_count": 20,
   "id": "760baeb2-836d-40c3-9d24-eb8e750702b2",
   "metadata": {},
   "outputs": [
    {
     "name": "stdout",
     "output_type": "stream",
     "text": [
      "apple\n",
      "banana\n",
      "citrus\n",
      "dates\n",
      "mango\n"
     ]
    }
   ],
   "source": [
    "fruit=['apple','banana','citrus','dates','mango']\n",
    "for item in fruit:\n",
    "    print(item)"
   ]
  },
  {
   "cell_type": "code",
   "execution_count": 22,
   "id": "8bd65b02-99c6-43d1-b55f-1f8e326265e9",
   "metadata": {},
   "outputs": [
    {
     "name": "stdout",
     "output_type": "stream",
     "text": [
      "name:alan,mark:54\n",
      "name:passat,mark:54\n",
      "name:eric,mark:53\n"
     ]
    }
   ],
   "source": [
    "student={'alan':54,'passat':54,'eric':53}\n",
    "for name,mark in student.items():\n",
    "    print(f\"name:{name},mark:{mark}\")"
   ]
  },
  {
   "cell_type": "code",
   "execution_count": 23,
   "id": "98ce65d3-55ba-4622-9147-316b942abb9c",
   "metadata": {},
   "outputs": [
    {
     "name": "stdout",
     "output_type": "stream",
     "text": [
      "6\n"
     ]
    }
   ],
   "source": [
    "tup=(2,4,6,8,10)\n",
    "print(tup[2])"
   ]
  },
  {
   "cell_type": "code",
   "execution_count": 24,
   "id": "3444b76b-c31f-4d17-ac81-d41239c2814a",
   "metadata": {},
   "outputs": [
    {
     "name": "stdout",
     "output_type": "stream",
     "text": [
      "{33, 11, 44, 22}\n"
     ]
    }
   ],
   "source": [
    "set1={11,22,33,33,44}\n",
    "print(set1)"
   ]
  },
  {
   "cell_type": "code",
   "execution_count": 25,
   "id": "4a86adcd-ea05-4d73-9d55-edec4fa47cdb",
   "metadata": {},
   "outputs": [
    {
     "data": {
      "text/plain": [
       "'Python'"
      ]
     },
     "execution_count": 25,
     "metadata": {},
     "output_type": "execute_result"
    }
   ],
   "source": [
    "str=\"PythonProgramming\"\n",
    "str[:6]"
   ]
  },
  {
   "cell_type": "code",
   "execution_count": 28,
   "id": "ecf530a4-a84b-415d-a5d5-3790c6550245",
   "metadata": {},
   "outputs": [
    {
     "data": {
      "text/plain": [
       "'amming'"
      ]
     },
     "execution_count": 28,
     "metadata": {},
     "output_type": "execute_result"
    }
   ],
   "source": [
    "str[-6:]"
   ]
  },
  {
   "cell_type": "code",
   "execution_count": 29,
   "id": "8f4e30b6-5c97-400a-8eb0-0ce90bbdfba1",
   "metadata": {},
   "outputs": [
    {
     "name": "stdout",
     "output_type": "stream",
     "text": [
      "y\n"
     ]
    }
   ],
   "source": [
    "str_split=str.split(\" \")\n",
    "for ch in str_split:\n",
    "    print(ch[1])"
   ]
  },
  {
   "cell_type": "code",
   "execution_count": 31,
   "id": "b2e36f02-a9af-40d6-bf5d-f2930e52817a",
   "metadata": {},
   "outputs": [
    {
     "data": {
      "text/plain": [
       "'gnimmargorPnohtyP'"
      ]
     },
     "execution_count": 31,
     "metadata": {},
     "output_type": "execute_result"
    }
   ],
   "source": [
    "str[::-1]"
   ]
  },
  {
   "cell_type": "code",
   "execution_count": 35,
   "id": "c15ffaf3-4479-43bc-b989-935eedfa045e",
   "metadata": {},
   "outputs": [],
   "source": [
    "l=[x**2 for x in range(1,11)]"
   ]
  },
  {
   "cell_type": "code",
   "execution_count": 36,
   "id": "44cd4dab-b1cd-4be4-94db-0b13c61d85e9",
   "metadata": {},
   "outputs": [
    {
     "data": {
      "text/plain": [
       "[1, 4, 9, 16, 25, 36, 49, 64, 81, 100]"
      ]
     },
     "execution_count": 36,
     "metadata": {},
     "output_type": "execute_result"
    }
   ],
   "source": [
    "l"
   ]
  },
  {
   "cell_type": "code",
   "execution_count": 45,
   "id": "61b97072-716d-4f0f-a664-8e51aec1a656",
   "metadata": {},
   "outputs": [],
   "source": [
    "l1=[x for x in range(2,51,2)]"
   ]
  },
  {
   "cell_type": "code",
   "execution_count": 46,
   "id": "5b8a672c-2b0f-43d9-ac26-3ce64960febe",
   "metadata": {},
   "outputs": [
    {
     "data": {
      "text/plain": [
       "[2,\n",
       " 4,\n",
       " 6,\n",
       " 8,\n",
       " 10,\n",
       " 12,\n",
       " 14,\n",
       " 16,\n",
       " 18,\n",
       " 20,\n",
       " 22,\n",
       " 24,\n",
       " 26,\n",
       " 28,\n",
       " 30,\n",
       " 32,\n",
       " 34,\n",
       " 36,\n",
       " 38,\n",
       " 40,\n",
       " 42,\n",
       " 44,\n",
       " 46,\n",
       " 48,\n",
       " 50]"
      ]
     },
     "execution_count": 46,
     "metadata": {},
     "output_type": "execute_result"
    }
   ],
   "source": [
    "l1\n"
   ]
  },
  {
   "cell_type": "code",
   "execution_count": 49,
   "id": "77f92c7a-4fc5-420a-9b57-cca7d5580113",
   "metadata": {},
   "outputs": [
    {
     "name": "stdout",
     "output_type": "stream",
     "text": [
      "['birthday', 'holiday', 'monday']\n"
     ]
    }
   ],
   "source": [
    "q3=['hello','birthday','holiday','monday']\n",
    "q7=[i for i in q3 if len(i)>5]\n",
    "print(q7)"
   ]
  },
  {
   "cell_type": "code",
   "execution_count": 51,
   "id": "bcc0f036-7920-4fc3-ad09-75d8526d3a89",
   "metadata": {},
   "outputs": [
    {
     "name": "stdout",
     "output_type": "stream",
     "text": [
      "7 is prime\n",
      "40 is not prime\n",
      "97 is prime\n",
      "10 is not prime\n"
     ]
    }
   ],
   "source": [
    "def isprime(num):\n",
    "    if num%2!=0 and num%3!=0:\n",
    "        print(f\"{num} is prime\")\n",
    "    else:\n",
    "        print(f\"{num} is not prime\")\n",
    "isprime(7)\n",
    "isprime(40)\n",
    "isprime(97)\n",
    "isprime(10)"
   ]
  },
  {
   "cell_type": "code",
   "execution_count": 71,
   "id": "09907412-c99c-48bb-9768-949d7891d7df",
   "metadata": {},
   "outputs": [],
   "source": [
    "#factorial\n",
    "def factorial(num):\n",
    "    if num==0 or num==1:\n",
    "        return 1\n",
    "    else:\n",
    "        return num*factorial(num-1)"
   ]
  },
  {
   "cell_type": "code",
   "execution_count": 73,
   "id": "d7ec9b2e-000d-49f9-a9e8-950c0a58bec7",
   "metadata": {},
   "outputs": [
    {
     "data": {
      "text/plain": [
       "6"
      ]
     },
     "execution_count": 73,
     "metadata": {},
     "output_type": "execute_result"
    }
   ],
   "source": [
    "factorial(3)"
   ]
  },
  {
   "cell_type": "code",
   "execution_count": 76,
   "id": "06e867da-a8b5-403e-a24b-cf3eed2b8fa5",
   "metadata": {},
   "outputs": [
    {
     "data": {
      "text/plain": [
       "15"
      ]
     },
     "execution_count": 76,
     "metadata": {},
     "output_type": "execute_result"
    }
   ],
   "source": [
    "def lsum(li):\n",
    "    sum=0\n",
    "    for ch in li:\n",
    "        sum+=ch\n",
    "    return sum\n",
    "lsum([1,2,3,4,5])"
   ]
  },
  {
   "cell_type": "code",
   "execution_count": null,
   "id": "0b1c6c11-a036-4fc4-881a-1e00e0e8a4bd",
   "metadata": {},
   "outputs": [],
   "source": []
  }
 ],
 "metadata": {
  "kernelspec": {
   "display_name": "Python 3 (ipykernel)",
   "language": "python",
   "name": "python3"
  },
  "language_info": {
   "codemirror_mode": {
    "name": "ipython",
    "version": 3
   },
   "file_extension": ".py",
   "mimetype": "text/x-python",
   "name": "python",
   "nbconvert_exporter": "python",
   "pygments_lexer": "ipython3",
   "version": "3.10.12"
  }
 },
 "nbformat": 4,
 "nbformat_minor": 5
}
